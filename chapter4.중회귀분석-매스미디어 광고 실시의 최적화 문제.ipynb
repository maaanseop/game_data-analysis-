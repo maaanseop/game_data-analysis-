{
 "cells": [
  {
   "cell_type": "markdown",
   "metadata": {},
   "source": [
    "# 배너광고의 A/B 테스트\n",
    "* 퍼즐컬렉션에서는 매월 게임에서 이용하는 아이템을 세일하고 있습니다. 이 세일은 매상 비율이 높은 중요한 이벤트인데, 어느 날 회사 경영진으로부터 '매상 자체는 높지만 구매율은 그리 높지 않은 것 아닌가?'라는 지적을 받게 되었습니다. 실제로 다른 앱의 세일과 비교한 결과, 아니나 다를까 퍼즐컬렉션의 구매율이 상대적으로 낮음을 알게 되었습니다. 그리하여 구매율이 낮은 원인을 데이터 분석으로 밝혀내어 개선하라는 지시가 내려왔습니다.\n",
    "\n",
    "## 문제 발견\n",
    "\n",
    "* 가설\n",
    "  1. 아이템 세일내용에 문제가 있음\n",
    "      - 지금 별로 필요하지 않은 아이템을 내놓고 있다.\n",
    "      - 세일폭이 별로 크지 않아서 유저에게 크게 어필하지 못하고 있다.\n",
    "  2. 배너광고의 표시내용에 문제가 있음\n",
    "\n",
    "\n",
    "* 타 부서들과 질의응답 결과\n",
    "  1. 기획부\n",
    "  - 아이템 세일에 쓸 만한 것들을 내놓았다고 생각하지만 얼마나 사용하고 있는지 크게 자신은 없음...\n",
    "  - 세일폭은 50%로 다른 앱과 같고 유저 입장에서도 충분히 싸게 느낄 것임\n",
    "  2. 마케팅부\n",
    "  - 아이템 세일의 배너광고는 해당 앱의 디자이너가 만들어 앱에 따라 품질이 제각각임\n",
    "  - 퍼즐컬렉션의 배너광고는 항상 클릭률이 낮음\n",
    "  - '배너광고의 표시내용에 문제가 있음'이라는 가설을 분석 테마로 선정"
   ]
  },
  {
   "cell_type": "markdown",
   "metadata": {},
   "source": [
    "## 데이터 수집과 가공\n",
    "### 데이터 분석 스토리 정리\n",
    "* 문제\n",
    "  - 퍼즐컬렉션의 배너광고 클릭률이 다른 앱보다 낮다. (사실)\n",
    "  - 퍼즐컬렉션의 배너광고 품질에 문제가 있다. (가설)\n",
    "* 해결책\n",
    "  - 클릭률이 높은 배너광고를 조사해서 퍼즐컬렉션의 배너광고를 개선한다.\n",
    "\n",
    "** 전후비교로는 외부요인을 배제할 수 없음\n",
    "** A/B 테스트로 외부요인 제거\n",
    "** A와B의 구분은 임의적이어야 함\n",
    "  - 퍼즐컬렉션의 유저수가 지난달보다 줄어들었다. (사실)\n",
    "  - 어딘가 숫자가 줄어든 세그먼트가 있을 것이다. (가설)\n",
    "  - 그 세그먼트에 적합한 대책을 세워서 유저수를 지난달과 같은 수준으로 회복한다. (해결책)\n",
    "* 분석에 필요한 데이터 검토\n",
    "  - DAU(Daily Active User):하루에 한 번 이상 게임을 이용한 유저 데이터\n",
    "  - user_info:유저의 속성정보 데이터"
   ]
  },
  {
   "cell_type": "markdown",
   "metadata": {},
   "source": [
    "### 분석에 필요한 데이터 수집"
   ]
  },
  {
   "cell_type": "code",
   "execution_count": 1,
   "metadata": {},
   "outputs": [],
   "source": [
    "#필요한 라이브러리 불러오기\n",
    "import pandas as pd\n",
    "import numpy as np\n",
    "#CSV 파일 읽어 들이기\n",
    "dau = pd.read_csv('section4-dau.csv')\n",
    "user_info = pd.read_csv('section4-user_info.csv')"
   ]
  },
  {
   "cell_type": "code",
   "execution_count": 2,
   "metadata": {
    "scrolled": true
   },
   "outputs": [
    {
     "name": "stdout",
     "output_type": "stream",
     "text": [
      "     log_date app_name  user_id\n",
      "0  2013-08-01  game-01    33754\n",
      "1  2013-08-01  game-01    28598\n",
      "2  2013-08-01  game-01    30306\n",
      "3  2013-08-01  game-01      117\n",
      "4  2013-08-01  game-01     6605\n",
      "  install_date app_name  user_id gender  generation device_type\n",
      "0   2013-04-15  game-01        1      M          40         iOS\n",
      "1   2013-04-15  game-01        2      M          10     Android\n",
      "2   2013-04-15  game-01        3      F          40         iOS\n",
      "3   2013-04-15  game-01        4      M          10     Android\n",
      "4   2013-04-15  game-01        5      M          40         iOS\n",
      "(170360, 3) (49526, 6)\n"
     ]
    }
   ],
   "source": [
    "#각각의 데이터 확인\n",
    "print(dau.head())\n",
    "print(user_info.head())\n",
    "print(dau.shape,user_info.shape)"
   ]
  },
  {
   "cell_type": "markdown",
   "metadata": {},
   "source": [
    "### 데이터 가공(전처리)"
   ]
  },
  {
   "cell_type": "code",
   "execution_count": 3,
   "metadata": {},
   "outputs": [
    {
     "data": {
      "text/html": [
       "<div>\n",
       "<style scoped>\n",
       "    .dataframe tbody tr th:only-of-type {\n",
       "        vertical-align: middle;\n",
       "    }\n",
       "\n",
       "    .dataframe tbody tr th {\n",
       "        vertical-align: top;\n",
       "    }\n",
       "\n",
       "    .dataframe thead th {\n",
       "        text-align: right;\n",
       "    }\n",
       "</style>\n",
       "<table border=\"1\" class=\"dataframe\">\n",
       "  <thead>\n",
       "    <tr style=\"text-align: right;\">\n",
       "      <th></th>\n",
       "      <th>log_date</th>\n",
       "      <th>app_name</th>\n",
       "      <th>user_id</th>\n",
       "      <th>install_date</th>\n",
       "      <th>gender</th>\n",
       "      <th>generation</th>\n",
       "      <th>device_type</th>\n",
       "    </tr>\n",
       "  </thead>\n",
       "  <tbody>\n",
       "    <tr>\n",
       "      <th>0</th>\n",
       "      <td>2013-08-01</td>\n",
       "      <td>game-01</td>\n",
       "      <td>33754</td>\n",
       "      <td>2013-08-01</td>\n",
       "      <td>M</td>\n",
       "      <td>20</td>\n",
       "      <td>iOS</td>\n",
       "    </tr>\n",
       "    <tr>\n",
       "      <th>1</th>\n",
       "      <td>2013-08-01</td>\n",
       "      <td>game-01</td>\n",
       "      <td>28598</td>\n",
       "      <td>2013-07-16</td>\n",
       "      <td>M</td>\n",
       "      <td>50</td>\n",
       "      <td>iOS</td>\n",
       "    </tr>\n",
       "    <tr>\n",
       "      <th>2</th>\n",
       "      <td>2013-08-01</td>\n",
       "      <td>game-01</td>\n",
       "      <td>30306</td>\n",
       "      <td>2013-07-20</td>\n",
       "      <td>F</td>\n",
       "      <td>30</td>\n",
       "      <td>iOS</td>\n",
       "    </tr>\n",
       "    <tr>\n",
       "      <th>3</th>\n",
       "      <td>2013-08-01</td>\n",
       "      <td>game-01</td>\n",
       "      <td>117</td>\n",
       "      <td>2013-04-17</td>\n",
       "      <td>F</td>\n",
       "      <td>20</td>\n",
       "      <td>iOS</td>\n",
       "    </tr>\n",
       "    <tr>\n",
       "      <th>4</th>\n",
       "      <td>2013-08-01</td>\n",
       "      <td>game-01</td>\n",
       "      <td>6605</td>\n",
       "      <td>2013-05-02</td>\n",
       "      <td>M</td>\n",
       "      <td>20</td>\n",
       "      <td>iOS</td>\n",
       "    </tr>\n",
       "  </tbody>\n",
       "</table>\n",
       "</div>"
      ],
      "text/plain": [
       "     log_date app_name  user_id install_date gender  generation device_type\n",
       "0  2013-08-01  game-01    33754   2013-08-01      M          20         iOS\n",
       "1  2013-08-01  game-01    28598   2013-07-16      M          50         iOS\n",
       "2  2013-08-01  game-01    30306   2013-07-20      F          30         iOS\n",
       "3  2013-08-01  game-01      117   2013-04-17      F          20         iOS\n",
       "4  2013-08-01  game-01     6605   2013-05-02      M          20         iOS"
      ]
     },
     "execution_count": 3,
     "metadata": {},
     "output_type": "execute_result"
    }
   ],
   "source": [
    "# DAU데이터에 user_info데이터 결합하기\n",
    "dau_merge = pd.merge(dau, user_info, on=['user_id', 'app_name'],how='left')\n",
    "dau_merge.head()"
   ]
  },
  {
   "cell_type": "markdown",
   "metadata": {},
   "source": [
    "### 데이터 분석"
   ]
  },
  {
   "cell_type": "code",
   "execution_count": 11,
   "metadata": {},
   "outputs": [
    {
     "data": {
      "text/html": [
       "<div>\n",
       "<style scoped>\n",
       "    .dataframe tbody tr th:only-of-type {\n",
       "        vertical-align: middle;\n",
       "    }\n",
       "\n",
       "    .dataframe tbody tr th {\n",
       "        vertical-align: top;\n",
       "    }\n",
       "\n",
       "    .dataframe thead th {\n",
       "        text-align: right;\n",
       "    }\n",
       "</style>\n",
       "<table border=\"1\" class=\"dataframe\">\n",
       "  <thead>\n",
       "    <tr style=\"text-align: right;\">\n",
       "      <th>gender</th>\n",
       "      <th>F</th>\n",
       "      <th>M</th>\n",
       "    </tr>\n",
       "    <tr>\n",
       "      <th>log_date</th>\n",
       "      <th></th>\n",
       "      <th></th>\n",
       "    </tr>\n",
       "  </thead>\n",
       "  <tbody>\n",
       "    <tr>\n",
       "      <th>2013-08</th>\n",
       "      <td>47343</td>\n",
       "      <td>46842</td>\n",
       "    </tr>\n",
       "    <tr>\n",
       "      <th>2013-09</th>\n",
       "      <td>38027</td>\n",
       "      <td>38148</td>\n",
       "    </tr>\n",
       "  </tbody>\n",
       "</table>\n",
       "</div>"
      ],
      "text/plain": [
       "gender        F      M\n",
       "log_date              \n",
       "2013-08   47343  46842\n",
       "2013-09   38027  38148"
      ]
     },
     "execution_count": 11,
     "metadata": {},
     "output_type": "execute_result"
    }
   ],
   "source": [
    "# 세그먼트 분석(성별로 집계)\n",
    "# 월 별로 집계\n",
    "dau_merge['log_date']=pd.to_datetime(dau_merge[\"log_date\"])\n",
    "dau_merge['log_date']=dau_merge['log_date'].dt.strftime('%Y-%m')\n",
    "dau_merge['install_date']=pd.to_datetime(dau_merge[\"install_date\"])\n",
    "dau_merge['install_date']=dau_merge['install_date'].dt.strftime('%Y-%m')\n",
    "\n",
    "# 성별로 집계\n",
    "b = dau_merge.groupby(['log_date','gender'])['gender'].count()\n",
    "b.unstack()"
   ]
  },
  {
   "cell_type": "code",
   "execution_count": 5,
   "metadata": {},
   "outputs": [
    {
     "data": {
      "text/html": [
       "<div>\n",
       "<style scoped>\n",
       "    .dataframe tbody tr th:only-of-type {\n",
       "        vertical-align: middle;\n",
       "    }\n",
       "\n",
       "    .dataframe tbody tr th {\n",
       "        vertical-align: top;\n",
       "    }\n",
       "\n",
       "    .dataframe thead th {\n",
       "        text-align: right;\n",
       "    }\n",
       "</style>\n",
       "<table border=\"1\" class=\"dataframe\">\n",
       "  <thead>\n",
       "    <tr style=\"text-align: right;\">\n",
       "      <th>generation</th>\n",
       "      <th>10</th>\n",
       "      <th>20</th>\n",
       "      <th>30</th>\n",
       "      <th>40</th>\n",
       "      <th>50</th>\n",
       "    </tr>\n",
       "    <tr>\n",
       "      <th>log_date</th>\n",
       "      <th></th>\n",
       "      <th></th>\n",
       "      <th></th>\n",
       "      <th></th>\n",
       "      <th></th>\n",
       "    </tr>\n",
       "  </thead>\n",
       "  <tbody>\n",
       "    <tr>\n",
       "      <th>2013-08</th>\n",
       "      <td>18785</td>\n",
       "      <td>33671</td>\n",
       "      <td>28072</td>\n",
       "      <td>8828</td>\n",
       "      <td>4829</td>\n",
       "    </tr>\n",
       "    <tr>\n",
       "      <th>2013-09</th>\n",
       "      <td>15391</td>\n",
       "      <td>27229</td>\n",
       "      <td>22226</td>\n",
       "      <td>7494</td>\n",
       "      <td>3835</td>\n",
       "    </tr>\n",
       "  </tbody>\n",
       "</table>\n",
       "</div>"
      ],
      "text/plain": [
       "generation     10     20     30    40    50\n",
       "log_date                                   \n",
       "2013-08     18785  33671  28072  8828  4829\n",
       "2013-09     15391  27229  22226  7494  3835"
      ]
     },
     "execution_count": 5,
     "metadata": {},
     "output_type": "execute_result"
    }
   ],
   "source": [
    "#세그먼트 분석(연령대별로 집계)\n",
    "c = dau_merge.groupby(['log_date','generation'])['generation'].count()\n",
    "c.unstack()"
   ]
  },
  {
   "cell_type": "code",
   "execution_count": 6,
   "metadata": {},
   "outputs": [
    {
     "data": {
      "text/html": [
       "<div>\n",
       "<style scoped>\n",
       "    .dataframe tbody tr th:only-of-type {\n",
       "        vertical-align: middle;\n",
       "    }\n",
       "\n",
       "    .dataframe tbody tr th {\n",
       "        vertical-align: top;\n",
       "    }\n",
       "\n",
       "    .dataframe thead th {\n",
       "        text-align: right;\n",
       "    }\n",
       "</style>\n",
       "<table border=\"1\" class=\"dataframe\">\n",
       "  <thead>\n",
       "    <tr style=\"text-align: right;\">\n",
       "      <th></th>\n",
       "      <th>log_date</th>\n",
       "      <th>2013-08</th>\n",
       "      <th>2013-09</th>\n",
       "    </tr>\n",
       "    <tr>\n",
       "      <th>generation</th>\n",
       "      <th>gender</th>\n",
       "      <th></th>\n",
       "      <th></th>\n",
       "    </tr>\n",
       "  </thead>\n",
       "  <tbody>\n",
       "    <tr>\n",
       "      <th rowspan=\"2\" valign=\"top\">10</th>\n",
       "      <th>F</th>\n",
       "      <td>9091</td>\n",
       "      <td>7316</td>\n",
       "    </tr>\n",
       "    <tr>\n",
       "      <th>M</th>\n",
       "      <td>9694</td>\n",
       "      <td>8075</td>\n",
       "    </tr>\n",
       "    <tr>\n",
       "      <th rowspan=\"2\" valign=\"top\">20</th>\n",
       "      <th>F</th>\n",
       "      <td>17181</td>\n",
       "      <td>13616</td>\n",
       "    </tr>\n",
       "    <tr>\n",
       "      <th>M</th>\n",
       "      <td>16490</td>\n",
       "      <td>13613</td>\n",
       "    </tr>\n",
       "    <tr>\n",
       "      <th rowspan=\"2\" valign=\"top\">30</th>\n",
       "      <th>F</th>\n",
       "      <td>14217</td>\n",
       "      <td>11458</td>\n",
       "    </tr>\n",
       "    <tr>\n",
       "      <th>M</th>\n",
       "      <td>13855</td>\n",
       "      <td>10768</td>\n",
       "    </tr>\n",
       "    <tr>\n",
       "      <th rowspan=\"2\" valign=\"top\">40</th>\n",
       "      <th>F</th>\n",
       "      <td>4597</td>\n",
       "      <td>3856</td>\n",
       "    </tr>\n",
       "    <tr>\n",
       "      <th>M</th>\n",
       "      <td>4231</td>\n",
       "      <td>3638</td>\n",
       "    </tr>\n",
       "    <tr>\n",
       "      <th rowspan=\"2\" valign=\"top\">50</th>\n",
       "      <th>F</th>\n",
       "      <td>2257</td>\n",
       "      <td>1781</td>\n",
       "    </tr>\n",
       "    <tr>\n",
       "      <th>M</th>\n",
       "      <td>2572</td>\n",
       "      <td>2054</td>\n",
       "    </tr>\n",
       "  </tbody>\n",
       "</table>\n",
       "</div>"
      ],
      "text/plain": [
       "log_date           2013-08  2013-09\n",
       "generation gender                  \n",
       "10         F          9091     7316\n",
       "           M          9694     8075\n",
       "20         F         17181    13616\n",
       "           M         16490    13613\n",
       "30         F         14217    11458\n",
       "           M         13855    10768\n",
       "40         F          4597     3856\n",
       "           M          4231     3638\n",
       "50         F          2257     1781\n",
       "           M          2572     2054"
      ]
     },
     "execution_count": 6,
     "metadata": {},
     "output_type": "execute_result"
    }
   ],
   "source": [
    "#세그먼트 분석(성별과 연령대를 조합해서 집계)\n",
    "d = dau_merge.groupby(['generation','gender','log_date'])['generation'].count()\n",
    "d.unstack()"
   ]
  },
  {
   "cell_type": "code",
   "execution_count": 7,
   "metadata": {},
   "outputs": [
    {
     "data": {
      "text/html": [
       "<div>\n",
       "<style scoped>\n",
       "    .dataframe tbody tr th:only-of-type {\n",
       "        vertical-align: middle;\n",
       "    }\n",
       "\n",
       "    .dataframe tbody tr th {\n",
       "        vertical-align: top;\n",
       "    }\n",
       "\n",
       "    .dataframe thead th {\n",
       "        text-align: right;\n",
       "    }\n",
       "</style>\n",
       "<table border=\"1\" class=\"dataframe\">\n",
       "  <thead>\n",
       "    <tr style=\"text-align: right;\">\n",
       "      <th>device_type</th>\n",
       "      <th>Android</th>\n",
       "      <th>iOS</th>\n",
       "    </tr>\n",
       "    <tr>\n",
       "      <th>log_date</th>\n",
       "      <th></th>\n",
       "      <th></th>\n",
       "    </tr>\n",
       "  </thead>\n",
       "  <tbody>\n",
       "    <tr>\n",
       "      <th>2013-08</th>\n",
       "      <td>46974</td>\n",
       "      <td>47211</td>\n",
       "    </tr>\n",
       "    <tr>\n",
       "      <th>2013-09</th>\n",
       "      <td>29647</td>\n",
       "      <td>46528</td>\n",
       "    </tr>\n",
       "  </tbody>\n",
       "</table>\n",
       "</div>"
      ],
      "text/plain": [
       "device_type  Android    iOS\n",
       "log_date                   \n",
       "2013-08        46974  47211\n",
       "2013-09        29647  46528"
      ]
     },
     "execution_count": 7,
     "metadata": {},
     "output_type": "execute_result"
    }
   ],
   "source": [
    "# 세그먼트 분석(단말기별로 집계)\n",
    "e = dau_merge.groupby(['log_date','device_type'])['device_type'].count().unstack()\n",
    "f = e.reset_index()\n",
    "g = f.set_index(['log_date'])\n",
    "g\n",
    "# 8월에서 9월로 넘어가면서 안드로이드 단말기 유저가 급격히 감소 "
   ]
  },
  {
   "cell_type": "markdown",
   "metadata": {},
   "source": [
    "## 데이터 분석\n",
    "\n",
    "* 그래프로 데이터를 시각화하기\n",
    "\n"
   ]
  },
  {
   "cell_type": "code",
   "execution_count": 10,
   "metadata": {},
   "outputs": [
    {
     "data": {
      "text/plain": [
       "<AxesSubplot:xlabel='log_date'>"
      ]
     },
     "execution_count": 10,
     "metadata": {},
     "output_type": "execute_result"
    },
    {
     "data": {
      "image/png": "[encoded data removed]",
      "text/plain": [
       "<Figure size 864x576 with 1 Axes>"
      ]
     },
     "metadata": {
      "needs_background": "light"
     },
     "output_type": "display_data"
    }
   ],
   "source": [
    "#세그먼트 분석 결과 시각화하기\n",
    "#세그먼트 분석 결과 시각화하기\n",
    "import matplotlib.pyplot as plt\n",
    "import pandas as pd\n",
    "import numpy as np\n",
    "w = pd.merge(dau, user_info, on=['user_id', 'app_name'],how='left')\n",
    "u = w.groupby(['log_date','device_type'])['device_type'].count().unstack()\n",
    "u.plot(figsize=(12, 8), stacked=False)"
   ]
  },
  {
   "cell_type": "markdown",
   "metadata": {},
   "source": [
    "## 데이터 분석 결과\n",
    "- 퍼즐컬렉션의 유저수가 지난달보다 줄어들었다. (사실)\n",
    "- Android 단말기를 이용하는 유저수가 현저히 줄어들었다. (사실)\n",
    "- Android 단말기에서 게임에 문제가 있는지 찾아내고 해결하여 유저수를 지난달과 같은 수준으로 되돌린다.\n",
    "  (데이터 분석으로 얻어낸 신빙성 높은 해결책)\n",
    "\n",
    "## 액션\n",
    "> 분석 결과를 바탕으로 게임개발부서에 확인해본 결과, 9월 12일에 Android용 게임의 버전업을 실시한 것을 알게되었고, 게임 버전업 후에 구형 Android단말기에서 로그인이 되지 않는 버그가 발생한 것이 드러났고, 시급히 이 버그를 고치기로 하였음."
   ]
  },
  {
   "cell_type": "markdown",
   "metadata": {},
   "source": [
    "## 정리\n",
    "#### 크로스집계를 활용한 세그먼트 분석 진행\n",
    ">지난달과 비교해서 유저수가 줄어든 것을 문제로 보고 그 원인을 찾아보았고, 데이터를 분석하기 전에 가급적 관계 부서에 정보를 캐묻고 사실을 파악하는 것은 필수지만, 이렇다 할 원인이 밝혀지지 않을 때도 있다는 것을 알게 되었음. 이런 경우 탐색형 데이터 분석을 실시하고 검증할 때 시행착오가 여러 번 발생하기 때문에 지금 밝히고자 하는 문제가 무엇이고 그 가설을 어떻게 세웠었는지 항상 의식하면서 데이터를 주의 깊게 파고드는 것이 중요하다고 느낌."
   ]
  }
 ],
 "metadata": {
  "kernelspec": {
   "display_name": "Python 3 (ipykernel)",
   "language": "python",
   "name": "python3"
  },
  "language_info": {
   "codemirror_mode": {
    "name": "ipython",
    "version": 3
   },
   "file_extension": ".py",
   "mimetype": "text/x-python",
   "name": "python",
   "nbconvert_exporter": "python",
   "pygments_lexer": "ipython3",
   "version": "3.9.5"
  }
 },
 "nbformat": 4,
 "nbformat_minor": 4
}
