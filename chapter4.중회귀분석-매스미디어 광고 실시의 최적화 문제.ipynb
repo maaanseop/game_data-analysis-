{
 "cells": [
  {
   "cell_type": "markdown",
   "metadata": {},
   "source": [
    "# 매스미디어 광고 실시의 최적화 문제\n",
    "* 퍼즐컬렉션은 지금까지 인터넷에서만 광고를 했으나, 유저수를 더욱 늘리기 위해 매스미디어(TV, 잡지) 광고를 하기로 했습니다. 과거에 다른 게임에서 실시했던 데이터를 이용해서 가장 효과적으로 광고를 하고자 합니다. 어떻게 하면 좋을까요? (10군데 정도의 매스미디어 매체와 거래를 하면서, 각 매체에 적어도 3개월에 한 번은 광고를 발주하는 것이 관계유지상 좋으므로 그 방침에 따라 각 매체에 광고를 발주해야함)\n",
    "\n",
    "## 문제 발견\n",
    "\n",
    "* 가설\n",
    "  - 매스미디어 광고의 광고비 배분에 문제가 있음.\n",
    "      - 매월 TV와 잡지의 광고비 배분에 변동이 있음.\n",
    "\n",
    "\n",
    "* 타 부서들과 질의응답 결과\n",
    "  - 마케팅부\n",
    "   1. 과거의 데이터를 가지고 TV와 잡지 각각의 광고비와 획득 유저수 관계 파악하기\n",
    "   2. 그 관계성을 이용해서 TV와 잡지에 투입할 광고 배분 결정하기\n",
    "   \n",
    "* 중회귀모델 분석 기법\n",
    "  - 이 기법을 사용하여 다음과 같은 사항을 분석한다.\n",
    "    1. 원인으로 여겼던 데이터가 결과로 여겼던 데이터에 정말 영향을 끼쳤는가?\n",
    "      > 광고비(설명변수)가 신규 유저수(목적변수)에 어떻게든 영향을 끼쳤는가?\n",
    "    2. 만일 영향을 끼쳤다고 하면 그들 사이에는 어떤 관계가 있는가?\n",
    "    \n",
    "### 분석 스토리 정리\n",
    "1. 매스미디어 광고에 의한 신규 유저수가 일정하지 않다.(사실)\n",
    "2. 신규 유저수가 일정하지 않은 것은 매월 TV 광고와 잡지 광고의 배분이 일정하지 않기 때문일 것이다.(가설)\n",
    "3. TV, 잡지 각각에 대해 광고비와 신규 유저수의 관계를 파악한다.\n",
    "4. 그 관계성을 가지고 어떻게 TV와 잡지에 광고를 배분할지 결정한다."
   ]
  },
  {
   "cell_type": "markdown",
   "metadata": {},
   "source": [
    "## 데이터 수집과 가공\n",
    "### 분석에 필요한 데이터 수집"
   ]
  },
  {
   "cell_type": "code",
   "execution_count": 38,
   "metadata": {},
   "outputs": [
    {
     "data": {
      "text/html": [
       "<div>\n",
       "<style scoped>\n",
       "    .dataframe tbody tr th:only-of-type {\n",
       "        vertical-align: middle;\n",
       "    }\n",
       "\n",
       "    .dataframe tbody tr th {\n",
       "        vertical-align: top;\n",
       "    }\n",
       "\n",
       "    .dataframe thead th {\n",
       "        text-align: right;\n",
       "    }\n",
       "</style>\n",
       "<table border=\"1\" class=\"dataframe\">\n",
       "  <thead>\n",
       "    <tr style=\"text-align: right;\">\n",
       "      <th></th>\n",
       "      <th>month</th>\n",
       "      <th>tvcm</th>\n",
       "      <th>magazine</th>\n",
       "      <th>install</th>\n",
       "    </tr>\n",
       "  </thead>\n",
       "  <tbody>\n",
       "    <tr>\n",
       "      <th>0</th>\n",
       "      <td>Jan-13</td>\n",
       "      <td>63580</td>\n",
       "      <td>59550</td>\n",
       "      <td>53948</td>\n",
       "    </tr>\n",
       "    <tr>\n",
       "      <th>1</th>\n",
       "      <td>Feb-13</td>\n",
       "      <td>81760</td>\n",
       "      <td>60690</td>\n",
       "      <td>57300</td>\n",
       "    </tr>\n",
       "    <tr>\n",
       "      <th>2</th>\n",
       "      <td>Mar-13</td>\n",
       "      <td>68530</td>\n",
       "      <td>58620</td>\n",
       "      <td>52057</td>\n",
       "    </tr>\n",
       "    <tr>\n",
       "      <th>3</th>\n",
       "      <td>Apr-13</td>\n",
       "      <td>52710</td>\n",
       "      <td>52470</td>\n",
       "      <td>44044</td>\n",
       "    </tr>\n",
       "    <tr>\n",
       "      <th>4</th>\n",
       "      <td>May-13</td>\n",
       "      <td>64730</td>\n",
       "      <td>63650</td>\n",
       "      <td>54063</td>\n",
       "    </tr>\n",
       "    <tr>\n",
       "      <th>5</th>\n",
       "      <td>Jun-13</td>\n",
       "      <td>76820</td>\n",
       "      <td>65550</td>\n",
       "      <td>58097</td>\n",
       "    </tr>\n",
       "    <tr>\n",
       "      <th>6</th>\n",
       "      <td>Jul-13</td>\n",
       "      <td>56660</td>\n",
       "      <td>55460</td>\n",
       "      <td>47407</td>\n",
       "    </tr>\n",
       "    <tr>\n",
       "      <th>7</th>\n",
       "      <td>Aug-13</td>\n",
       "      <td>66590</td>\n",
       "      <td>60660</td>\n",
       "      <td>53333</td>\n",
       "    </tr>\n",
       "    <tr>\n",
       "      <th>8</th>\n",
       "      <td>Sep-13</td>\n",
       "      <td>60660</td>\n",
       "      <td>56460</td>\n",
       "      <td>49918</td>\n",
       "    </tr>\n",
       "    <tr>\n",
       "      <th>9</th>\n",
       "      <td>Oct-13</td>\n",
       "      <td>100900</td>\n",
       "      <td>65450</td>\n",
       "      <td>59963</td>\n",
       "    </tr>\n",
       "  </tbody>\n",
       "</table>\n",
       "</div>"
      ],
      "text/plain": [
       "    month    tvcm  magazine  install\n",
       "0  Jan-13   63580     59550    53948\n",
       "1  Feb-13   81760     60690    57300\n",
       "2  Mar-13   68530     58620    52057\n",
       "3  Apr-13   52710     52470    44044\n",
       "4  May-13   64730     63650    54063\n",
       "5  Jun-13   76820     65550    58097\n",
       "6  Jul-13   56660     55460    47407\n",
       "7  Aug-13   66590     60660    53333\n",
       "8  Sep-13   60660     56460    49918\n",
       "9  Oct-13  100900     65450    59963"
      ]
     },
     "execution_count": 38,
     "metadata": {},
     "output_type": "execute_result"
    }
   ],
   "source": [
    "#필요한 라이브러리 불러오기\n",
    "import pandas as pd\n",
    "import numpy as np\n",
    "#CSV 파일 읽어 들이기\n",
    "ad_data = pd.read_csv('ad_result.csv')\n",
    "ad_data"
   ]
  },
  {
   "cell_type": "markdown",
   "metadata": {},
   "source": [
    "Format\tDescription\tExample\n",
    "%c\t날짜, 요일, 시간을 출력, 현재 시간대 기준\tTue May 4 00:33:26 2021\n",
    "%x\t날짜를 출력, 현재 시간대 기준\t05/04/21\n",
    "%X\t시간을 출력, 현재 시간대 기준\t00:33:26\n",
    "%a\t요일 줄임말\tSun, Mon, … Sat\n",
    "%A\t요일\tSunday, Monday, …, Saturday\n",
    "%w\t요일을 숫자로 표시, 월~일\t0, 1, …, 6\n",
    "%d\t일\t01, 02, …, 31\n",
    "%b\t월 줄임말\tJan, Feb, …, Dec\n",
    "%B\t월\tJanuary, February, …, December\n",
    "%m\t숫자 월\t01, 02, …, 12\n",
    "%y\t두 자릿수 연도\t01, 02, …, 99\n",
    "%Y\t네 자릿수 연도\t0001, 0002, …, 2017, 2018, 9999\n",
    "%H\t시(24hour)\t00, 01, …, 23\n",
    "%I\t시(12hour)\t01, 02, …, 12\n",
    "%p\tAM, PM\tAM, PM\n",
    "%M\t분\t00, 01, …, 59\n",
    "%S\t초\t00, 01, …, 59\n",
    "%Z\t시간대\t대한민국 표준시\n",
    "%j\t1월 1일부터 경과한 일수\t001, 002, …, 366\n",
    "%U\t1년중 주차(월요일이 한 주의 시작)\t00, 01, …, 53\n",
    "%W\t1년중 주차(월요일이 한 주의 시작)\t00, 01, …, 53"
   ]
  },
  {
   "cell_type": "code",
   "execution_count": 39,
   "metadata": {},
   "outputs": [
    {
     "data": {
      "text/plain": [
       "0    2013-01\n",
       "1    2013-02\n",
       "2    2013-03\n",
       "3    2013-04\n",
       "4    2013-05\n",
       "5    2013-06\n",
       "6    2013-07\n",
       "7    2013-08\n",
       "8    2013-09\n",
       "9    2013-10\n",
       "Name: month, dtype: object"
      ]
     },
     "execution_count": 39,
     "metadata": {},
     "output_type": "execute_result"
    }
   ],
   "source": [
    "#날짜 형식 변환\n",
    "import datetime\n",
    "\n",
    "def date_convert(date_to_convert):\n",
    "     return datetime.datetime.strptime(date_to_convert, '%b-%y').strftime('%Y-%m')\n",
    "\n",
    "ad_data['month'] = ad_data['month'].apply(date_convert)\n",
    "\n",
    "ad_data['month']"
   ]
  },
  {
   "cell_type": "markdown",
   "metadata": {},
   "source": [
    "## 데이터 분석\n",
    "\n",
    "* 그래프로 데이터를 시각화하기\n",
    "  - TV광고와 잡지 광고 모두 오른쪽 위로 올라가는 모습으로 점들이 찍힌 것을 확인할 수 있으며, 이를 통해 광고비를 늘리면 신규 유저수도 늘어나는. 관계가 있다고 생각할 수 있음\n"
   ]
  },
  {
   "cell_type": "code",
   "execution_count": 40,
   "metadata": {},
   "outputs": [
    {
     "data": {
      "text/html": [
       "<div>\n",
       "<style scoped>\n",
       "    .dataframe tbody tr th:only-of-type {\n",
       "        vertical-align: middle;\n",
       "    }\n",
       "\n",
       "    .dataframe tbody tr th {\n",
       "        vertical-align: top;\n",
       "    }\n",
       "\n",
       "    .dataframe thead th {\n",
       "        text-align: right;\n",
       "    }\n",
       "</style>\n",
       "<table border=\"1\" class=\"dataframe\">\n",
       "  <thead>\n",
       "    <tr style=\"text-align: right;\">\n",
       "      <th></th>\n",
       "      <th>month</th>\n",
       "      <th>tvcm</th>\n",
       "      <th>magazine</th>\n",
       "      <th>install</th>\n",
       "    </tr>\n",
       "  </thead>\n",
       "  <tbody>\n",
       "    <tr>\n",
       "      <th>0</th>\n",
       "      <td>2013-01</td>\n",
       "      <td>63580</td>\n",
       "      <td>59550</td>\n",
       "      <td>53948</td>\n",
       "    </tr>\n",
       "    <tr>\n",
       "      <th>1</th>\n",
       "      <td>2013-02</td>\n",
       "      <td>81760</td>\n",
       "      <td>60690</td>\n",
       "      <td>57300</td>\n",
       "    </tr>\n",
       "    <tr>\n",
       "      <th>2</th>\n",
       "      <td>2013-03</td>\n",
       "      <td>68530</td>\n",
       "      <td>58620</td>\n",
       "      <td>52057</td>\n",
       "    </tr>\n",
       "    <tr>\n",
       "      <th>3</th>\n",
       "      <td>2013-04</td>\n",
       "      <td>52710</td>\n",
       "      <td>52470</td>\n",
       "      <td>44044</td>\n",
       "    </tr>\n",
       "    <tr>\n",
       "      <th>4</th>\n",
       "      <td>2013-05</td>\n",
       "      <td>64730</td>\n",
       "      <td>63650</td>\n",
       "      <td>54063</td>\n",
       "    </tr>\n",
       "    <tr>\n",
       "      <th>5</th>\n",
       "      <td>2013-06</td>\n",
       "      <td>76820</td>\n",
       "      <td>65550</td>\n",
       "      <td>58097</td>\n",
       "    </tr>\n",
       "    <tr>\n",
       "      <th>6</th>\n",
       "      <td>2013-07</td>\n",
       "      <td>56660</td>\n",
       "      <td>55460</td>\n",
       "      <td>47407</td>\n",
       "    </tr>\n",
       "    <tr>\n",
       "      <th>7</th>\n",
       "      <td>2013-08</td>\n",
       "      <td>66590</td>\n",
       "      <td>60660</td>\n",
       "      <td>53333</td>\n",
       "    </tr>\n",
       "    <tr>\n",
       "      <th>8</th>\n",
       "      <td>2013-09</td>\n",
       "      <td>60660</td>\n",
       "      <td>56460</td>\n",
       "      <td>49918</td>\n",
       "    </tr>\n",
       "    <tr>\n",
       "      <th>9</th>\n",
       "      <td>2013-10</td>\n",
       "      <td>100900</td>\n",
       "      <td>65450</td>\n",
       "      <td>59963</td>\n",
       "    </tr>\n",
       "  </tbody>\n",
       "</table>\n",
       "</div>"
      ],
      "text/plain": [
       "     month    tvcm  magazine  install\n",
       "0  2013-01   63580     59550    53948\n",
       "1  2013-02   81760     60690    57300\n",
       "2  2013-03   68530     58620    52057\n",
       "3  2013-04   52710     52470    44044\n",
       "4  2013-05   64730     63650    54063\n",
       "5  2013-06   76820     65550    58097\n",
       "6  2013-07   56660     55460    47407\n",
       "7  2013-08   66590     60660    53333\n",
       "8  2013-09   60660     56460    49918\n",
       "9  2013-10  100900     65450    59963"
      ]
     },
     "execution_count": 40,
     "metadata": {},
     "output_type": "execute_result"
    }
   ],
   "source": [
    "ad_data"
   ]
  },
  {
   "cell_type": "markdown",
   "metadata": {},
   "source": [
    "## 데이터 분석\n",
    "\n",
    "* 그래프로 데이터를 시각화하기\n",
    "\n"
   ]
  },
  {
   "cell_type": "code",
   "execution_count": 54,
   "metadata": {},
   "outputs": [
    {
     "data": {
      "image/png": "[encoded data removed]",
      "text/plain": [
       "<Figure size 1000x600 with 1 Axes>"
      ]
     },
     "metadata": {},
     "output_type": "display_data"
    }
   ],
   "source": [
    "#TV광고의 광고비용과 신규 유저수의 산점도 그리기\n",
    "import matplotlib.pyplot as plt\n",
    "#한글깨짐처리\n",
    "import platform\n",
    "if platform.system() == 'Darwin': #맥\n",
    "        plt.rc('font', family='AppleGothic') \n",
    "plt.figure(figsize=(10,6))\n",
    "\n",
    "# x축, y축에 들어갈 데이터 column 순서대로 지정\n",
    "plt.scatter(ad_data['tvcm'], ad_data['install'], c = 'red', alpha = 0.8)\n",
    "\n",
    "plt.xlabel('TV 광고비', size = 10)\n",
    "plt.ylabel('신규 유저수', size = 10)\n",
    "\n",
    "plt.show()"
   ]
  },
  {
   "cell_type": "code",
   "execution_count": 55,
   "metadata": {},
   "outputs": [
    {
     "data": {
      "image/png": "[encoded data removed]",
      "text/plain": [
       "<Figure size 1000x600 with 1 Axes>"
      ]
     },
     "metadata": {},
     "output_type": "display_data"
    }
   ],
   "source": [
    "plt.figure(figsize=(10,6))\n",
    "# x축, y축에 들어갈 데이터 column 순서대로 지정\n",
    "plt.scatter(ad_data['magazine'], ad_data['install'], c = 'blue', alpha = 0.8)\n",
    "\n",
    "plt.xlabel('잡지 광고비', size = 10)\n",
    "plt.ylabel('신규 유저수', size = 10)\n",
    "\n",
    "plt.show()"
   ]
  },
  {
   "cell_type": "markdown",
   "metadata": {},
   "source": [
    "### 회귀분석 실행"
   ]
  },
  {
   "cell_type": "code",
   "execution_count": 63,
   "metadata": {},
   "outputs": [],
   "source": [
    "from statsmodels.formula.api import ols\n",
    "result = ols('install ~ tvcm + magazine',data=ad_data).fit()"
   ]
  },
  {
   "cell_type": "code",
   "execution_count": 62,
   "metadata": {},
   "outputs": [
    {
     "name": "stderr",
     "output_type": "stream",
     "text": [
      "/Library/Frameworks/Python.framework/Versions/3.9/lib/python3.9/site-packages/scipy/stats/_stats_py.py:1772: UserWarning: kurtosistest only valid for n>=20 ... continuing anyway, n=10\n",
      "  warnings.warn(\"kurtosistest only valid for n>=20 ... continuing \"\n"
     ]
    },
    {
     "data": {
      "text/html": [
       "<table class=\"simpletable\">\n",
       "<caption>OLS Regression Results</caption>\n",
       "<tr>\n",
       "  <th>Dep. Variable:</th>         <td>install</td>     <th>  R-squared:         </th> <td>   0.938</td>\n",
       "</tr>\n",
       "<tr>\n",
       "  <th>Model:</th>                   <td>OLS</td>       <th>  Adj. R-squared:    </th> <td>   0.920</td>\n",
       "</tr>\n",
       "<tr>\n",
       "  <th>Method:</th>             <td>Least Squares</td>  <th>  F-statistic:       </th> <td>   52.86</td>\n",
       "</tr>\n",
       "<tr>\n",
       "  <th>Date:</th>             <td>Fri, 11 Nov 2022</td> <th>  Prob (F-statistic):</th> <td>5.97e-05</td>\n",
       "</tr>\n",
       "<tr>\n",
       "  <th>Time:</th>                 <td>10:39:57</td>     <th>  Log-Likelihood:    </th> <td> -84.758</td>\n",
       "</tr>\n",
       "<tr>\n",
       "  <th>No. Observations:</th>      <td>    10</td>      <th>  AIC:               </th> <td>   175.5</td>\n",
       "</tr>\n",
       "<tr>\n",
       "  <th>Df Residuals:</th>          <td>     7</td>      <th>  BIC:               </th> <td>   176.4</td>\n",
       "</tr>\n",
       "<tr>\n",
       "  <th>Df Model:</th>              <td>     2</td>      <th>                     </th>     <td> </td>   \n",
       "</tr>\n",
       "<tr>\n",
       "  <th>Covariance Type:</th>      <td>nonrobust</td>    <th>                     </th>     <td> </td>   \n",
       "</tr>\n",
       "</table>\n",
       "<table class=\"simpletable\">\n",
       "<tr>\n",
       "      <td></td>         <th>coef</th>     <th>std err</th>      <th>t</th>      <th>P>|t|</th>  <th>[0.025</th>    <th>0.975]</th>  \n",
       "</tr>\n",
       "<tr>\n",
       "  <th>Intercept</th> <td>  188.1743</td> <td> 7719.131</td> <td>    0.024</td> <td> 0.981</td> <td>-1.81e+04</td> <td> 1.84e+04</td>\n",
       "</tr>\n",
       "<tr>\n",
       "  <th>tvcm</th>      <td>    0.1361</td> <td>    0.052</td> <td>    2.630</td> <td> 0.034</td> <td>    0.014</td> <td>    0.258</td>\n",
       "</tr>\n",
       "<tr>\n",
       "  <th>magazine</th>  <td>    0.7250</td> <td>    0.169</td> <td>    4.283</td> <td> 0.004</td> <td>    0.325</td> <td>    1.125</td>\n",
       "</tr>\n",
       "</table>\n",
       "<table class=\"simpletable\">\n",
       "<tr>\n",
       "  <th>Omnibus:</th>       <td> 0.992</td> <th>  Durbin-Watson:     </th> <td>   0.881</td>\n",
       "</tr>\n",
       "<tr>\n",
       "  <th>Prob(Omnibus):</th> <td> 0.609</td> <th>  Jarque-Bera (JB):  </th> <td>   0.795</td>\n",
       "</tr>\n",
       "<tr>\n",
       "  <th>Skew:</th>          <td> 0.534</td> <th>  Prob(JB):          </th> <td>   0.672</td>\n",
       "</tr>\n",
       "<tr>\n",
       "  <th>Kurtosis:</th>      <td> 2.124</td> <th>  Cond. No.          </th> <td>1.63e+06</td>\n",
       "</tr>\n",
       "</table><br/><br/>Notes:<br/>[1] Standard Errors assume that the covariance matrix of the errors is correctly specified.<br/>[2] The condition number is large, 1.63e+06. This might indicate that there are<br/>strong multicollinearity or other numerical problems."
      ],
      "text/plain": [
       "<class 'statsmodels.iolib.summary.Summary'>\n",
       "\"\"\"\n",
       "                            OLS Regression Results                            \n",
       "==============================================================================\n",
       "Dep. Variable:                install   R-squared:                       0.938\n",
       "Model:                            OLS   Adj. R-squared:                  0.920\n",
       "Method:                 Least Squares   F-statistic:                     52.86\n",
       "Date:                Fri, 11 Nov 2022   Prob (F-statistic):           5.97e-05\n",
       "Time:                        10:39:57   Log-Likelihood:                -84.758\n",
       "No. Observations:                  10   AIC:                             175.5\n",
       "Df Residuals:                       7   BIC:                             176.4\n",
       "Df Model:                           2                                         \n",
       "Covariance Type:            nonrobust                                         \n",
       "==============================================================================\n",
       "                 coef    std err          t      P>|t|      [0.025      0.975]\n",
       "------------------------------------------------------------------------------\n",
       "Intercept    188.1743   7719.131      0.024      0.981   -1.81e+04    1.84e+04\n",
       "tvcm           0.1361      0.052      2.630      0.034       0.014       0.258\n",
       "magazine       0.7250      0.169      4.283      0.004       0.325       1.125\n",
       "==============================================================================\n",
       "Omnibus:                        0.992   Durbin-Watson:                   0.881\n",
       "Prob(Omnibus):                  0.609   Jarque-Bera (JB):                0.795\n",
       "Skew:                           0.534   Prob(JB):                        0.672\n",
       "Kurtosis:                       2.124   Cond. No.                     1.63e+06\n",
       "==============================================================================\n",
       "\n",
       "Notes:\n",
       "[1] Standard Errors assume that the covariance matrix of the errors is correctly specified.\n",
       "[2] The condition number is large, 1.63e+06. This might indicate that there are\n",
       "strong multicollinearity or other numerical problems.\n",
       "\"\"\""
      ]
     },
     "execution_count": 62,
     "metadata": {},
     "output_type": "execute_result"
    }
   ],
   "source": [
    "result.summary()"
   ]
  },
  {
   "cell_type": "markdown",
   "metadata": {},
   "source": [
    "### 회귀분석의 결과 해석\n",
    "* 신규 유저수 = 0.136 * TV 광고비 + 0.725 * 잡지 광고비 + 188.174이라는 관계가 있으며, 신규 유저는 광고를 실시하지 않을 때 월 188명 정도임을 알 수 있고, TV 광고에 1(1만원)을 투입하면 약 0.1명의 신규 유저를, 잡지 광고에 1을 투입하면 약 0.7명의 신규 유저를 획득할 수 있음을 알 수 있다.\n",
    "* 즉, 잡지 광고가 TV 광고보다 훨씬 효율적으로 유저를 획득할 수 있다.\n",
    "\n",
    "#### 더 자세한 정보\n",
    "* Residuals : 잔차(예측값과 측정값의 차이)분포를 사분위수로 표현한 것으로, 데이터의 치우침이 있는지 확인할 수 있음\n",
    "* Coefficients : 추정된 절편과 기울기에 관한 개요. 각 행은 추정값, 표준오차, t값, p값 순으로 나열되어 있으며 기울기가 얼마나 변동하는지, 통계적 유의성이 있는지 알 수 있음\n",
    "* Multiple R-squared, Adjusted R-squared : 결정계수와 자유도 조정 결정계수로 결정계수는 1에 가까워 질수록 모델이 주어진 데이터에 적합함을 뜻함"
   ]
  },
  {
   "cell_type": "markdown",
   "metadata": {},
   "source": [
    "## 데이터 분석 결론\n",
    "* 결정계수와 자유도 조정 결정계수\n",
    "  - 결정계수:0.938 자유도 조정 결정계수:0.92\n",
    "* 잔차분포를 보면, 1Q(제1사분위수)의 절대값이 3Q(제3사분위수)의 절대값보다 커서 분포에 약간의 치우침이 있어 보이지만, 자유도 결정계수가 0.92로 여전히 높기 때문에, 광고 전략을 위한 의사결정에는 문제가 없어 보임\n",
    "\n",
    "## 액션\n",
    "> 데이터 분석 결과 TV 광고보다 잡지 광고가 광고효과가 높다는 것을 알 수 있다. 얼핏 보면 TV 광고를 버리고 잡지 광고만 해도 좋을 것 같지만 이 회귀식은 어디까지나 이번에 얻은 데이터만으로 산출한 것임을 잊지 말아야 한다. 데이터의 범위를 넘어선 값이 회귀식에 들어맞지 않는 일은 흔히 있을 수 있기때문. 또한 첫 부분에서 밝혔듯이 각 광고매체와 원만한 관계를 유지하기 위해 적어도 3개월에 한 번은 광고 발주를 해야한다.\n",
    "\n",
    "* 결과적으로 다음과 같이 광고를 배분하기로 함\n",
    "  - TV 광고 : 42000(만원), 잡지 광고 : 75000(만원)\n",
    "* 그 결과 다음 식에 따라 대략 55,000명의 신규 유저를 획득할 수 있다는 전망을 내놓을 수 있었음\n",
    "  - 54,563명 = 0.136 * 42000(만원) + 0.725 * 75000(만원) + 188.174"
   ]
  },
  {
   "cell_type": "markdown",
   "metadata": {},
   "source": [
    "## 정리\n",
    "#### 회귀분석을 통한 데이터 분석\n",
    ">비용이 많이 드는 부분에서 가장 효율이 높아지도록 비용 최적화를 도모했음. 특별히 비용이 큰 곳을 주목해서 조금이라도 비용 대비 효과가 높아지도록 하면, 비지니스에서는 전체적으로 큰 효과를 얻을 수 있다. 이때 회귀분석 등을 활용해서 어떤 액션에 얼마나 공을 들이면 좋을지 분석해야 한다. 또한 이런 분석에서는 사전에 결과를 짐작할 수 있는 경우가 많으므로, 액션에 막대한 비용이 드는 문제일 경우에는 반드시 실시해야 하는 분석임."
   ]
  }
 ],
 "metadata": {
  "kernelspec": {
   "display_name": "Python 3 (ipykernel)",
   "language": "python",
   "name": "python3"
  },
  "language_info": {
   "codemirror_mode": {
    "name": "ipython",
    "version": 3
   },
   "file_extension": ".py",
   "mimetype": "text/x-python",
   "name": "python",
   "nbconvert_exporter": "python",
   "pygments_lexer": "ipython3",
   "version": "3.9.5"
  }
 },
 "nbformat": 4,
 "nbformat_minor": 4
}
